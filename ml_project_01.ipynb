{
  "nbformat": 4,
  "nbformat_minor": 0,
  "metadata": {
    "colab": {
      "provenance": [],
      "authorship_tag": "ABX9TyOdGfEj9usxXAa0WxuNruAU",
      "include_colab_link": true
    },
    "kernelspec": {
      "name": "python3",
      "display_name": "Python 3"
    },
    "language_info": {
      "name": "python"
    }
  },
  "cells": [
    {
      "cell_type": "markdown",
      "metadata": {
        "id": "view-in-github",
        "colab_type": "text"
      },
      "source": [
        "<a href=\"https://colab.research.google.com/github/amankrishnappa/ml_project_01/blob/main/ml_project_01.ipynb\" target=\"_parent\"><img src=\"https://colab.research.google.com/assets/colab-badge.svg\" alt=\"Open In Colab\"/></a>"
      ]
    },
    {
      "cell_type": "code",
      "execution_count": null,
      "metadata": {
        "id": "ZqtPYCxCpPsM"
      },
      "outputs": [],
      "source": []
    },
    {
      "cell_type": "markdown",
      "metadata": {
        "id": "XuDiZJDeR_Uv"
      },
      "source": [
        "This notebook is courtesy - https://github.com/SuvroBaner/Python-for-Data-Science-and-Machine-Learning-Bootcamp/blob/master/1.%20Python%20Crash%20Course/Python%20Crash%20Course.ipynb\n"
      ]
    },
    {
      "cell_type": "markdown",
      "metadata": {
        "id": "PJzIcrEhGGgF"
      },
      "source": [
        "## Data types\n",
        "\n",
        "### Numbers"
      ]
    },
    {
      "cell_type": "code",
      "metadata": {
        "id": "rfFPjKNNGGgG",
        "outputId": "0848e8cd-8e6d-4c28-f453-c90e178c0fd3"
      },
      "source": [
        "1 +  1    #addition"
      ],
      "execution_count": null,
      "outputs": [
        {
          "output_type": "execute_result",
          "data": {
            "text/plain": [
              "2"
            ]
          },
          "metadata": {
            "tags": []
          },
          "execution_count": 6
        }
      ]
    },
    {
      "cell_type": "code",
      "metadata": {
        "id": "GAUkGELLGGgK",
        "outputId": "af218db1-48b4-43d5-966e-5ec2313d6080"
      },
      "source": [
        "1 * 3"
      ],
      "execution_count": null,
      "outputs": [
        {
          "output_type": "execute_result",
          "data": {
            "text/plain": [
              "3"
            ]
          },
          "metadata": {
            "tags": []
          },
          "execution_count": 7
        }
      ]
    },
    {
      "cell_type": "code",
      "metadata": {
        "id": "nlgqjW2kGGgM",
        "outputId": "25d8a0ca-5612-443e-bd61-148ebd3dbfc9"
      },
      "source": [
        "1 / 2"
      ],
      "execution_count": null,
      "outputs": [
        {
          "output_type": "execute_result",
          "data": {
            "text/plain": [
              "0.5"
            ]
          },
          "metadata": {
            "tags": []
          },
          "execution_count": 8
        }
      ]
    },
    {
      "cell_type": "code",
      "metadata": {
        "id": "MHfJwu68GGgO",
        "outputId": "1917f1b9-6d48-4439-e351-c33eeb758a41"
      },
      "source": [
        "2 ** 4      #2 power 4"
      ],
      "execution_count": null,
      "outputs": [
        {
          "output_type": "execute_result",
          "data": {
            "text/plain": [
              "16"
            ]
          },
          "metadata": {
            "tags": []
          },
          "execution_count": 9
        }
      ]
    },
    {
      "cell_type": "code",
      "metadata": {
        "id": "gZkkt9bHGGgR",
        "outputId": "4053338e-180f-4a3f-f401-bb23006d84cc"
      },
      "source": [
        "4 % 2     #modulo"
      ],
      "execution_count": null,
      "outputs": [
        {
          "output_type": "execute_result",
          "data": {
            "text/plain": [
              "0"
            ]
          },
          "metadata": {
            "tags": []
          },
          "execution_count": 10
        }
      ]
    },
    {
      "cell_type": "code",
      "metadata": {
        "id": "SXiMGNyPGGgT",
        "outputId": "59fc06cd-aaca-45c0-8beb-cd53a06b8029"
      },
      "source": [
        "5 % 2"
      ],
      "execution_count": null,
      "outputs": [
        {
          "output_type": "execute_result",
          "data": {
            "text/plain": [
              "1"
            ]
          },
          "metadata": {
            "tags": []
          },
          "execution_count": 11
        }
      ]
    },
    {
      "cell_type": "code",
      "metadata": {
        "id": "CqjYTS36GGgV",
        "outputId": "1f0e750c-da41-43e1-a642-ef07db5a32e4"
      },
      "source": [
        "(2 + 3) * (5 + 5)"
      ],
      "execution_count": null,
      "outputs": [
        {
          "output_type": "execute_result",
          "data": {
            "text/plain": [
              "50"
            ]
          },
          "metadata": {
            "tags": []
          },
          "execution_count": 12
        }
      ]
    },
    {
      "cell_type": "markdown",
      "metadata": {
        "id": "0tXGWCJ_GGgX"
      },
      "source": [
        "### Variable Assignment"
      ]
    },
    {
      "cell_type": "code",
      "metadata": {
        "id": "vpQdPRAbGGgY"
      },
      "source": [
        "# Can not start with number or special characters\n",
        "name_of_var = 2"
      ],
      "execution_count": null,
      "outputs": []
    },
    {
      "cell_type": "code",
      "metadata": {
        "id": "AHpxTaJHGGga"
      },
      "source": [
        "x = 2\n",
        "y = 3"
      ],
      "execution_count": null,
      "outputs": []
    },
    {
      "cell_type": "code",
      "metadata": {
        "id": "tB8yKRe5GGgc"
      },
      "source": [
        "z = x + y"
      ],
      "execution_count": null,
      "outputs": []
    },
    {
      "cell_type": "code",
      "metadata": {
        "id": "ogv3A89qGGge",
        "outputId": "b7d6f1b1-ee93-4f6e-c57b-c1f096cb447f"
      },
      "source": [
        "z"
      ],
      "execution_count": null,
      "outputs": [
        {
          "output_type": "execute_result",
          "data": {
            "text/plain": [
              "5"
            ]
          },
          "metadata": {
            "tags": []
          },
          "execution_count": 16
        }
      ]
    },
    {
      "cell_type": "markdown",
      "metadata": {
        "id": "H6tVfNA4GGgg"
      },
      "source": [
        "### Strings"
      ]
    },
    {
      "cell_type": "code",
      "metadata": {
        "id": "pznOeBUMGGgh",
        "outputId": "7627cc57-dea5-4fc6-e098-b552314259e4"
      },
      "source": [
        "'single quotes'"
      ],
      "execution_count": null,
      "outputs": [
        {
          "output_type": "execute_result",
          "data": {
            "text/plain": [
              "'single quotes'"
            ]
          },
          "metadata": {
            "tags": []
          },
          "execution_count": 17
        }
      ]
    },
    {
      "cell_type": "code",
      "metadata": {
        "id": "uNGoarLoGGgj",
        "outputId": "86c51e04-64e9-4f47-ac4e-3821a175941c"
      },
      "source": [
        "\"double quotes\""
      ],
      "execution_count": null,
      "outputs": [
        {
          "output_type": "execute_result",
          "data": {
            "text/plain": [
              "'double quotes'"
            ]
          },
          "metadata": {
            "tags": []
          },
          "execution_count": 18
        }
      ]
    },
    {
      "cell_type": "code",
      "metadata": {
        "id": "QrVzQYXTGGgn",
        "outputId": "ee070650-4b21-4109-fd84-e15802b5e78b"
      },
      "source": [
        "\" wrap lot's of other quotes\""
      ],
      "execution_count": null,
      "outputs": [
        {
          "output_type": "execute_result",
          "data": {
            "text/plain": [
              "\" wrap lot's of other quotes\""
            ]
          },
          "metadata": {
            "tags": []
          },
          "execution_count": 19
        }
      ]
    },
    {
      "cell_type": "markdown",
      "metadata": {
        "id": "fAOUuumEGGgp"
      },
      "source": [
        "### Printing"
      ]
    },
    {
      "cell_type": "code",
      "metadata": {
        "id": "5j0sjZXFGGgp"
      },
      "source": [
        "x = 'hello'"
      ],
      "execution_count": null,
      "outputs": []
    },
    {
      "cell_type": "code",
      "metadata": {
        "id": "kyy5R2UIGGgr",
        "outputId": "9c879063-2d7a-44ef-9788-eb9e6667dcd4"
      },
      "source": [
        "x"
      ],
      "execution_count": null,
      "outputs": [
        {
          "output_type": "execute_result",
          "data": {
            "text/plain": [
              "'hello'"
            ]
          },
          "metadata": {
            "tags": []
          },
          "execution_count": 21
        }
      ]
    },
    {
      "cell_type": "code",
      "metadata": {
        "id": "xXG0wj5mGGgt",
        "outputId": "18ace789-c298-4103-9480-ba1268af9c24"
      },
      "source": [
        "print(x)"
      ],
      "execution_count": null,
      "outputs": [
        {
          "output_type": "stream",
          "text": [
            "hello\n"
          ],
          "name": "stdout"
        }
      ]
    },
    {
      "cell_type": "code",
      "metadata": {
        "id": "GDXtCU0rGGgx"
      },
      "source": [
        "num = 12\n",
        "name = 'Sam'"
      ],
      "execution_count": null,
      "outputs": []
    },
    {
      "cell_type": "markdown",
      "metadata": {
        "id": "cWmq-3yEIVbu"
      },
      "source": []
    },
    {
      "cell_type": "code",
      "metadata": {
        "id": "iRpsV1tdGGgz",
        "outputId": "55b4e2df-f9bd-43b5-8de5-5b9398d0d402"
      },
      "source": [
        "print('My number is: {one}, and my name is: {two}'.format(one=num,two=name))"
      ],
      "execution_count": null,
      "outputs": [
        {
          "output_type": "stream",
          "text": [
            "My number is: 12, and my name is: Sam\n"
          ],
          "name": "stdout"
        }
      ]
    },
    {
      "cell_type": "code",
      "metadata": {
        "id": "WreVJpdhGGg5",
        "outputId": "18647c09-4cf0-4c8a-ac9d-5477cda7db33"
      },
      "source": [
        "print('My number is: {}, and my name is: {}'.format(num,name))"
      ],
      "execution_count": null,
      "outputs": [
        {
          "output_type": "stream",
          "text": [
            "My number is: 12, and my name is: Sam\n"
          ],
          "name": "stdout"
        }
      ]
    },
    {
      "cell_type": "markdown",
      "metadata": {
        "id": "KwNBxb5eGGg8"
      },
      "source": [
        " Lists\n",
        "\n",
        "https://www.w3schools.com/python/python_lists.asp"
      ]
    },
    {
      "cell_type": "code",
      "metadata": {
        "id": "oIR2th-6GGg8",
        "outputId": "41dedff0-9714-4332-c548-66541b5499cb"
      },
      "source": [
        "[1,2,3]"
      ],
      "execution_count": null,
      "outputs": [
        {
          "output_type": "execute_result",
          "data": {
            "text/plain": [
              "[1, 2, 3]"
            ]
          },
          "metadata": {
            "tags": []
          },
          "execution_count": 26
        }
      ]
    },
    {
      "cell_type": "code",
      "metadata": {
        "id": "BJCKqOY0GGg-",
        "outputId": "d8a71a71-9237-4f04-ae61-168a16186270"
      },
      "source": [
        "['hi',1,[1,2]]"
      ],
      "execution_count": null,
      "outputs": [
        {
          "output_type": "execute_result",
          "data": {
            "text/plain": [
              "['hi', 1, [1, 2]]"
            ]
          },
          "metadata": {
            "tags": []
          },
          "execution_count": 27
        }
      ]
    },
    {
      "cell_type": "code",
      "metadata": {
        "id": "giQdc2NEGGg_"
      },
      "source": [
        "my_list = ['a','b','c']"
      ],
      "execution_count": null,
      "outputs": []
    },
    {
      "cell_type": "code",
      "metadata": {
        "id": "x9uk_f7_GGhB"
      },
      "source": [
        "my_list.append('d')"
      ],
      "execution_count": null,
      "outputs": []
    },
    {
      "cell_type": "code",
      "metadata": {
        "id": "vEtBLI7cGGhD",
        "outputId": "c8b1ffb5-41f5-43e1-f011-70e4a3992d0b"
      },
      "source": [
        "my_list"
      ],
      "execution_count": null,
      "outputs": [
        {
          "output_type": "execute_result",
          "data": {
            "text/plain": [
              "['a', 'b', 'c', 'd']"
            ]
          },
          "metadata": {
            "tags": []
          },
          "execution_count": 30
        }
      ]
    },
    {
      "cell_type": "code",
      "metadata": {
        "id": "63EH-ht9GGhF",
        "outputId": "bf80177c-e379-462a-aa03-1cad0f3342d0"
      },
      "source": [
        "my_list[0]"
      ],
      "execution_count": null,
      "outputs": [
        {
          "output_type": "execute_result",
          "data": {
            "text/plain": [
              "'a'"
            ]
          },
          "metadata": {
            "tags": []
          },
          "execution_count": 31
        }
      ]
    },
    {
      "cell_type": "code",
      "metadata": {
        "id": "o5X0jkKDGGhI",
        "outputId": "7f637241-1a3f-489c-be3d-fb8e441c3946"
      },
      "source": [
        "my_list[1]"
      ],
      "execution_count": null,
      "outputs": [
        {
          "output_type": "execute_result",
          "data": {
            "text/plain": [
              "'b'"
            ]
          },
          "metadata": {
            "tags": []
          },
          "execution_count": 32
        }
      ]
    },
    {
      "cell_type": "code",
      "metadata": {
        "id": "8XXUBXTSGGhK",
        "outputId": "9c687ef0-1b10-4423-dbcd-cd4709b06019"
      },
      "source": [
        "my_list[1:]"
      ],
      "execution_count": null,
      "outputs": [
        {
          "output_type": "execute_result",
          "data": {
            "text/plain": [
              "['b', 'c', 'd']"
            ]
          },
          "metadata": {
            "tags": []
          },
          "execution_count": 33
        }
      ]
    },
    {
      "cell_type": "code",
      "metadata": {
        "id": "jUcjNr71GGhM",
        "outputId": "a918a6be-bd35-433d-a3cf-82a856bf7e29"
      },
      "source": [
        "my_list[:1]"
      ],
      "execution_count": null,
      "outputs": [
        {
          "output_type": "execute_result",
          "data": {
            "text/plain": [
              "['a']"
            ]
          },
          "metadata": {
            "tags": []
          },
          "execution_count": 34
        }
      ]
    },
    {
      "cell_type": "code",
      "metadata": {
        "id": "Gpud78WCGGhO"
      },
      "source": [
        "my_list[0] = 'NEW'"
      ],
      "execution_count": null,
      "outputs": []
    },
    {
      "cell_type": "code",
      "metadata": {
        "id": "WAuhSDhVBj0Y",
        "colab": {
          "base_uri": "https://localhost:8080/",
          "height": 33
        },
        "outputId": "4a411424-7c3e-4409-db59-09fe8a7aa523"
      },
      "source": [
        "list(range(5))"
      ],
      "execution_count": null,
      "outputs": [
        {
          "output_type": "execute_result",
          "data": {
            "text/plain": [
              "[0, 1, 2, 3, 4]"
            ]
          },
          "metadata": {
            "tags": []
          },
          "execution_count": 2
        }
      ]
    },
    {
      "cell_type": "code",
      "metadata": {
        "id": "7QS3egxcGGhR",
        "outputId": "2f8effe0-9643-4f2a-ea98-bdf10cd61902"
      },
      "source": [
        "my_list"
      ],
      "execution_count": null,
      "outputs": [
        {
          "output_type": "execute_result",
          "data": {
            "text/plain": [
              "['NEW', 'b', 'c', 'd']"
            ]
          },
          "metadata": {
            "tags": []
          },
          "execution_count": 98
        }
      ]
    },
    {
      "cell_type": "code",
      "metadata": {
        "id": "538RiLRdGGhT"
      },
      "source": [
        "nest = [1,2,3,[4,5,['target']]]"
      ],
      "execution_count": null,
      "outputs": []
    },
    {
      "cell_type": "code",
      "metadata": {
        "id": "vzRZkNN_GGhV",
        "outputId": "8b2333b9-e5ad-4096-a8ce-e3b3c1f9dfba"
      },
      "source": [
        "nest[3]"
      ],
      "execution_count": null,
      "outputs": [
        {
          "output_type": "execute_result",
          "data": {
            "text/plain": [
              "[4, 5, ['target']]"
            ]
          },
          "metadata": {
            "tags": []
          },
          "execution_count": 100
        }
      ]
    },
    {
      "cell_type": "code",
      "metadata": {
        "id": "ajxg041OGGhX",
        "outputId": "f4a7d0b7-234e-4495-e236-d32c813d4c3d"
      },
      "source": [
        "nest[3][2]"
      ],
      "execution_count": null,
      "outputs": [
        {
          "output_type": "execute_result",
          "data": {
            "text/plain": [
              "['target']"
            ]
          },
          "metadata": {
            "tags": []
          },
          "execution_count": 101
        }
      ]
    },
    {
      "cell_type": "code",
      "metadata": {
        "id": "Ak3f8mxdGGhZ",
        "outputId": "0ef82af1-1e0c-4bc9-e084-eeada54b5154"
      },
      "source": [
        "nest[3][2][0]"
      ],
      "execution_count": null,
      "outputs": [
        {
          "output_type": "execute_result",
          "data": {
            "text/plain": [
              "'target'"
            ]
          },
          "metadata": {
            "tags": []
          },
          "execution_count": 102
        }
      ]
    },
    {
      "cell_type": "markdown",
      "metadata": {
        "id": "liUGHtq5GGhc"
      },
      "source": [
        "### Dictionaries\n",
        "\n",
        "https://www.w3schools.com/python/python_dictionaries.asp"
      ]
    },
    {
      "cell_type": "code",
      "metadata": {
        "id": "LUsKF6gHGGhc"
      },
      "source": [
        "d = {'key1':'item1','key2':'item2'}"
      ],
      "execution_count": null,
      "outputs": []
    },
    {
      "cell_type": "code",
      "metadata": {
        "id": "UUoR3gpkGGhf",
        "outputId": "09637c56-b3e4-4e98-f9e9-bbd6c78c104b"
      },
      "source": [
        "d"
      ],
      "execution_count": null,
      "outputs": [
        {
          "output_type": "execute_result",
          "data": {
            "text/plain": [
              "{'key1': 'item1', 'key2': 'item2'}"
            ]
          },
          "metadata": {
            "tags": []
          },
          "execution_count": 38
        }
      ]
    },
    {
      "cell_type": "code",
      "metadata": {
        "id": "gI0nU-xYGGhi",
        "outputId": "2d0cc341-830e-4a72-f88e-b53fe6008279"
      },
      "source": [
        "d['key1']"
      ],
      "execution_count": null,
      "outputs": [
        {
          "output_type": "execute_result",
          "data": {
            "text/plain": [
              "'item1'"
            ]
          },
          "metadata": {
            "tags": []
          },
          "execution_count": 39
        }
      ]
    },
    {
      "cell_type": "markdown",
      "metadata": {
        "id": "dlic3Au3GGhk"
      },
      "source": [
        "### Booleans"
      ]
    },
    {
      "cell_type": "code",
      "metadata": {
        "id": "Cs9MKfqPGGhm",
        "outputId": "143d95d1-e07a-491e-d7d3-3b24d48bd2a7"
      },
      "source": [
        "True"
      ],
      "execution_count": null,
      "outputs": [
        {
          "output_type": "execute_result",
          "data": {
            "text/plain": [
              "True"
            ]
          },
          "metadata": {
            "tags": []
          },
          "execution_count": 40
        }
      ]
    },
    {
      "cell_type": "code",
      "metadata": {
        "id": "0VzgPsuVGGho",
        "outputId": "bce4dbfe-c37f-4a28-af3e-8a2f2b558c2c"
      },
      "source": [
        "False"
      ],
      "execution_count": null,
      "outputs": [
        {
          "output_type": "execute_result",
          "data": {
            "text/plain": [
              "False"
            ]
          },
          "metadata": {
            "tags": []
          },
          "execution_count": 41
        }
      ]
    },
    {
      "cell_type": "markdown",
      "metadata": {
        "id": "NDNJg_w9GGhq"
      },
      "source": [
        "### Tuples \n",
        "\n",
        "https://www.w3schools.com/python/python_tuples.asp"
      ]
    },
    {
      "cell_type": "code",
      "metadata": {
        "id": "ABZNgNjfGGhq"
      },
      "source": [
        "t = (1,2,3)"
      ],
      "execution_count": null,
      "outputs": []
    },
    {
      "cell_type": "code",
      "metadata": {
        "id": "iIOj3RU-GGht",
        "colab": {
          "base_uri": "https://localhost:8080/",
          "height": 35
        },
        "outputId": "8156116f-5b0c-4ab4-c08a-5424383cef97"
      },
      "source": [
        "t[0]"
      ],
      "execution_count": null,
      "outputs": [
        {
          "output_type": "execute_result",
          "data": {
            "text/plain": [
              "1"
            ]
          },
          "metadata": {
            "tags": []
          },
          "execution_count": 2
        }
      ]
    },
    {
      "cell_type": "code",
      "metadata": {
        "id": "OPoGjyoCO43o",
        "colab": {
          "base_uri": "https://localhost:8080/",
          "height": 183
        },
        "outputId": "eced56c9-6cc3-483c-bd96-64aabaa6c265"
      },
      "source": [
        " #A tuple is a unchangeable, so you will get an error\n",
        " \n",
        "t[0] = 'NEW'   "
      ],
      "execution_count": null,
      "outputs": [
        {
          "output_type": "error",
          "ename": "TypeError",
          "evalue": "ignored",
          "traceback": [
            "\u001b[0;31m---------------------------------------------------------------------------\u001b[0m",
            "\u001b[0;31mTypeError\u001b[0m                                 Traceback (most recent call last)",
            "\u001b[0;32m<ipython-input-7-66398ebc44b2>\u001b[0m in \u001b[0;36m<module>\u001b[0;34m()\u001b[0m\n\u001b[1;32m      1\u001b[0m \u001b[0;34m\u001b[0m\u001b[0m\n\u001b[0;32m----> 2\u001b[0;31m \u001b[0mt\u001b[0m\u001b[0;34m[\u001b[0m\u001b[0;36m0\u001b[0m\u001b[0;34m]\u001b[0m \u001b[0;34m=\u001b[0m \u001b[0;34m'NEW'\u001b[0m    \u001b[0;31m#A tuple is a unchangeable, so you will get an error\u001b[0m\u001b[0;34m\u001b[0m\u001b[0;34m\u001b[0m\u001b[0m\n\u001b[0m",
            "\u001b[0;31mTypeError\u001b[0m: 'tuple' object does not support item assignment"
          ]
        }
      ]
    },
    {
      "cell_type": "markdown",
      "metadata": {
        "id": "vuGIVCKbGGhx"
      },
      "source": [
        "### Sets\n",
        "\n",
        "https://www.w3schools.com/python/python_sets.asp"
      ]
    },
    {
      "cell_type": "code",
      "metadata": {
        "id": "y1dzmnjyGGhy",
        "outputId": "edf01a6f-346f-472d-a770-1715987d1253"
      },
      "source": [
        "{1,2,3}"
      ],
      "execution_count": null,
      "outputs": [
        {
          "output_type": "execute_result",
          "data": {
            "text/plain": [
              "{1, 2, 3}"
            ]
          },
          "metadata": {
            "tags": []
          },
          "execution_count": 45
        }
      ]
    },
    {
      "cell_type": "code",
      "metadata": {
        "id": "EkjTznAqGGhz",
        "outputId": "4b29c26e-9197-4b08-e076-a3c8a16a00d6"
      },
      "source": [
        "{1,2,3,1,2,1,2,3,3,3,3,2,2,2,1,1,2}"
      ],
      "execution_count": null,
      "outputs": [
        {
          "output_type": "execute_result",
          "data": {
            "text/plain": [
              "{1, 2, 3}"
            ]
          },
          "metadata": {
            "tags": []
          },
          "execution_count": 46
        }
      ]
    },
    {
      "cell_type": "markdown",
      "metadata": {
        "id": "0C2gjQrwGGh3"
      },
      "source": [
        "## Comparison Operators"
      ]
    },
    {
      "cell_type": "code",
      "metadata": {
        "id": "6mZbuAyfGGh4",
        "outputId": "978b87bc-a58c-4f9f-f61a-eed8c7f6da5f"
      },
      "source": [
        "1 > 2"
      ],
      "execution_count": null,
      "outputs": [
        {
          "output_type": "execute_result",
          "data": {
            "text/plain": [
              "False"
            ]
          },
          "metadata": {
            "tags": []
          },
          "execution_count": 47
        }
      ]
    },
    {
      "cell_type": "code",
      "metadata": {
        "id": "UAV8d9NhGGh7",
        "outputId": "46ed67c2-ca97-4b81-91fa-02824d54edf1"
      },
      "source": [
        "1 < 2"
      ],
      "execution_count": null,
      "outputs": [
        {
          "output_type": "execute_result",
          "data": {
            "text/plain": [
              "True"
            ]
          },
          "metadata": {
            "tags": []
          },
          "execution_count": 48
        }
      ]
    },
    {
      "cell_type": "code",
      "metadata": {
        "id": "oGUwRAFUGGh9",
        "outputId": "7d96afa3-cfaa-4a73-c252-e6934206dffb"
      },
      "source": [
        "1 >= 1"
      ],
      "execution_count": null,
      "outputs": [
        {
          "output_type": "execute_result",
          "data": {
            "text/plain": [
              "True"
            ]
          },
          "metadata": {
            "tags": []
          },
          "execution_count": 49
        }
      ]
    },
    {
      "cell_type": "code",
      "metadata": {
        "id": "W2_Xt4JkGGh_",
        "outputId": "ea6c5c4a-2b94-4fa9-9e61-70b18fa9fa58"
      },
      "source": [
        "1 <= 4"
      ],
      "execution_count": null,
      "outputs": [
        {
          "output_type": "execute_result",
          "data": {
            "text/plain": [
              "True"
            ]
          },
          "metadata": {
            "tags": []
          },
          "execution_count": 50
        }
      ]
    },
    {
      "cell_type": "code",
      "metadata": {
        "id": "m9OWxdAUGGiC",
        "outputId": "1f0452a3-67d3-4cbd-caca-20ea6510b055"
      },
      "source": [
        "1 == 1"
      ],
      "execution_count": null,
      "outputs": [
        {
          "output_type": "execute_result",
          "data": {
            "text/plain": [
              "True"
            ]
          },
          "metadata": {
            "tags": []
          },
          "execution_count": 51
        }
      ]
    },
    {
      "cell_type": "code",
      "metadata": {
        "id": "9DRXMYRkGGiD",
        "outputId": "78826a10-6861-4c8d-986b-3ff8cc9c0aaa"
      },
      "source": [
        "'hi' == 'bye'"
      ],
      "execution_count": null,
      "outputs": [
        {
          "output_type": "execute_result",
          "data": {
            "text/plain": [
              "False"
            ]
          },
          "metadata": {
            "tags": []
          },
          "execution_count": 52
        }
      ]
    },
    {
      "cell_type": "markdown",
      "metadata": {
        "id": "iJK_-xvqGGiF"
      },
      "source": [
        "## Logic Operators"
      ]
    },
    {
      "cell_type": "code",
      "metadata": {
        "id": "HqhKbleXGGiF",
        "outputId": "87c69155-83ac-42ab-d9d9-976e5f2e38b3"
      },
      "source": [
        "(1 > 2) and (2 < 3)"
      ],
      "execution_count": null,
      "outputs": [
        {
          "output_type": "execute_result",
          "data": {
            "text/plain": [
              "False"
            ]
          },
          "metadata": {
            "tags": []
          },
          "execution_count": 53
        }
      ]
    },
    {
      "cell_type": "code",
      "metadata": {
        "id": "oV_wCFaGGGiH",
        "outputId": "d5a8568c-7095-4508-919c-676ba2b7ff10"
      },
      "source": [
        "(1 > 2) or (2 < 3)"
      ],
      "execution_count": null,
      "outputs": [
        {
          "output_type": "execute_result",
          "data": {
            "text/plain": [
              "True"
            ]
          },
          "metadata": {
            "tags": []
          },
          "execution_count": 54
        }
      ]
    },
    {
      "cell_type": "code",
      "metadata": {
        "id": "P6B1Mp8JGGiJ",
        "outputId": "9b37e249-3eaf-42e5-f6dc-9c71bae2ecbf"
      },
      "source": [
        "(1 == 2) or (2 == 3) or (4 == 4)"
      ],
      "execution_count": null,
      "outputs": [
        {
          "output_type": "execute_result",
          "data": {
            "text/plain": [
              "True"
            ]
          },
          "metadata": {
            "tags": []
          },
          "execution_count": 55
        }
      ]
    },
    {
      "cell_type": "markdown",
      "metadata": {
        "id": "bhsr6RyKGGiK"
      },
      "source": [
        "## if,elif, else Statements"
      ]
    },
    {
      "cell_type": "code",
      "metadata": {
        "id": "ep91uqnLGGiL",
        "outputId": "3ffea3a1-51e6-48e8-a010-2757a1fa7a22"
      },
      "source": [
        "if 1 < 2:\n",
        "    print('Yep!')"
      ],
      "execution_count": null,
      "outputs": [
        {
          "output_type": "stream",
          "text": [
            "Yep!\n"
          ],
          "name": "stdout"
        }
      ]
    },
    {
      "cell_type": "code",
      "metadata": {
        "id": "YNqpZZUFGGiM",
        "outputId": "1fdec6b3-ff72-4dac-d400-b28b8a87b51e"
      },
      "source": [
        "if 1 < 2:\n",
        "    print('yep!')"
      ],
      "execution_count": null,
      "outputs": [
        {
          "output_type": "stream",
          "text": [
            "yep!\n"
          ],
          "name": "stdout"
        }
      ]
    },
    {
      "cell_type": "code",
      "metadata": {
        "id": "-2YkOXv3GGiN",
        "outputId": "9482bad3-63ae-4265-dfc0-decf8824719e"
      },
      "source": [
        "if 1 < 2:\n",
        "    print('first')\n",
        "else:\n",
        "    print('last')"
      ],
      "execution_count": null,
      "outputs": [
        {
          "output_type": "stream",
          "text": [
            "first\n"
          ],
          "name": "stdout"
        }
      ]
    },
    {
      "cell_type": "code",
      "metadata": {
        "id": "_NVSE7jtGGiQ",
        "outputId": "0315b883-d678-4cd8-e472-6e0ef45006bc"
      },
      "source": [
        "if 1 > 2:\n",
        "    print('first')\n",
        "else:\n",
        "    print('last')"
      ],
      "execution_count": null,
      "outputs": [
        {
          "output_type": "stream",
          "text": [
            "last\n"
          ],
          "name": "stdout"
        }
      ]
    },
    {
      "cell_type": "code",
      "metadata": {
        "id": "pLWDcHyrGGiS",
        "outputId": "8c9fb566-2a87-4967-8448-c4030b6caa23"
      },
      "source": [
        "if 1 == 2:\n",
        "    print('first')\n",
        "elif 3 == 3:\n",
        "    print('middle')\n",
        "else:\n",
        "    print('Last')"
      ],
      "execution_count": null,
      "outputs": [
        {
          "output_type": "stream",
          "text": [
            "middle\n"
          ],
          "name": "stdout"
        }
      ]
    },
    {
      "cell_type": "markdown",
      "metadata": {
        "id": "Rm65s9TOGGiT"
      },
      "source": [
        "## for Loops"
      ]
    },
    {
      "cell_type": "code",
      "metadata": {
        "id": "5lH5UdmGGGiU"
      },
      "source": [
        "seq = [1,2,3,4,5]"
      ],
      "execution_count": null,
      "outputs": []
    },
    {
      "cell_type": "code",
      "metadata": {
        "id": "g6JjPcGkGGiV",
        "outputId": "4ed525f0-5b4a-4cac-9a45-1fd9fa18dc2f"
      },
      "source": [
        "for item in seq:\n",
        "    print(item)"
      ],
      "execution_count": null,
      "outputs": [
        {
          "output_type": "stream",
          "text": [
            "1\n",
            "2\n",
            "3\n",
            "4\n",
            "5\n"
          ],
          "name": "stdout"
        }
      ]
    },
    {
      "cell_type": "code",
      "metadata": {
        "id": "qqjnNs0HGGiY",
        "outputId": "c1c707f0-a58a-4e52-e678-ea93d1c6a874"
      },
      "source": [
        "for item in seq:\n",
        "    print('Yep')"
      ],
      "execution_count": null,
      "outputs": [
        {
          "output_type": "stream",
          "text": [
            "Yep\n",
            "Yep\n",
            "Yep\n",
            "Yep\n",
            "Yep\n"
          ],
          "name": "stdout"
        }
      ]
    },
    {
      "cell_type": "code",
      "metadata": {
        "id": "RZHVYou1GGia",
        "outputId": "2fdffaa1-d202-471a-92e4-39ec4fcefc0a"
      },
      "source": [
        "for jelly in seq:\n",
        "    print(jelly+jelly)"
      ],
      "execution_count": null,
      "outputs": [
        {
          "output_type": "stream",
          "text": [
            "2\n",
            "4\n",
            "6\n",
            "8\n",
            "10\n"
          ],
          "name": "stdout"
        }
      ]
    },
    {
      "cell_type": "markdown",
      "metadata": {
        "id": "iLA88sZjGGid"
      },
      "source": [
        "## while Loops"
      ]
    },
    {
      "cell_type": "code",
      "metadata": {
        "id": "DADVkT9tGGie",
        "outputId": "3503adbb-4a6d-49b8-d1cd-2f183c529869"
      },
      "source": [
        "i = 1\n",
        "while i < 5:\n",
        "    print('i is: {}'.format(i))\n",
        "    i = i+1"
      ],
      "execution_count": null,
      "outputs": [
        {
          "output_type": "stream",
          "text": [
            "i is: 1\n",
            "i is: 2\n",
            "i is: 3\n",
            "i is: 4\n"
          ],
          "name": "stdout"
        }
      ]
    },
    {
      "cell_type": "markdown",
      "metadata": {
        "id": "weYdg7HrGGih"
      },
      "source": [
        "## range()"
      ]
    },
    {
      "cell_type": "code",
      "metadata": {
        "id": "iDIAQz8AGGih",
        "outputId": "cb1fb5f4-3e95-4289-a7eb-8909b65a38ef"
      },
      "source": [
        "range(5)"
      ],
      "execution_count": null,
      "outputs": [
        {
          "output_type": "execute_result",
          "data": {
            "text/plain": [
              "range(0, 5)"
            ]
          },
          "metadata": {
            "tags": []
          },
          "execution_count": 66
        }
      ]
    },
    {
      "cell_type": "code",
      "metadata": {
        "id": "FcCf5kvcGGii",
        "outputId": "f59ff6d1-4094-46da-ac56-c827579cfcfe"
      },
      "source": [
        "for i in range(5):\n",
        "    print(i)"
      ],
      "execution_count": null,
      "outputs": [
        {
          "output_type": "stream",
          "text": [
            "0\n",
            "1\n",
            "2\n",
            "3\n",
            "4\n"
          ],
          "name": "stdout"
        }
      ]
    },
    {
      "cell_type": "code",
      "metadata": {
        "id": "7ovCMdOIGGik",
        "outputId": "abf0eb4c-e952-4f7f-92d0-be971b241d3a"
      },
      "source": [
        "list(range(5))"
      ],
      "execution_count": null,
      "outputs": [
        {
          "output_type": "execute_result",
          "data": {
            "text/plain": [
              "[0, 1, 2, 3, 4]"
            ]
          },
          "metadata": {
            "tags": []
          },
          "execution_count": 68
        }
      ]
    },
    {
      "cell_type": "markdown",
      "metadata": {
        "id": "SNwBQAHdGGim"
      },
      "source": [
        "## list comprehension"
      ]
    },
    {
      "cell_type": "code",
      "metadata": {
        "id": "bnTNSiqnGGim"
      },
      "source": [
        "x = [1,2,3,4]"
      ],
      "execution_count": null,
      "outputs": []
    },
    {
      "cell_type": "code",
      "metadata": {
        "id": "XOKSk-sZGGio",
        "outputId": "c6a607f2-884f-4ab3-8a21-7227f9a9118c"
      },
      "source": [
        "out = []\n",
        "for item in x:\n",
        "    out.append(item**2)\n",
        "print(out)"
      ],
      "execution_count": null,
      "outputs": [
        {
          "output_type": "stream",
          "text": [
            "[1, 4, 9, 16]\n"
          ],
          "name": "stdout"
        }
      ]
    },
    {
      "cell_type": "code",
      "metadata": {
        "id": "ucohhav8GGiq",
        "outputId": "fe98ea7e-3c89-4ade-be69-be5d02273779"
      },
      "source": [
        "[item**2 for item in x]"
      ],
      "execution_count": null,
      "outputs": [
        {
          "output_type": "execute_result",
          "data": {
            "text/plain": [
              "[1, 4, 9, 16]"
            ]
          },
          "metadata": {
            "tags": []
          },
          "execution_count": 71
        }
      ]
    },
    {
      "cell_type": "code",
      "metadata": {
        "id": "0L07Msz_KJDU",
        "colab": {
          "base_uri": "https://localhost:8080/",
          "height": 35
        },
        "outputId": "a103ab83-3ff0-453c-8d76-4206bfed1c6a"
      },
      "source": [
        "\n",
        "a = (\"John\", \"Charles\", \"Mike\")\n",
        "b = (\"Jenny\", \"Christy\", \"Monica\")\n",
        "\n",
        "x = zip(a, b)\n",
        "\n",
        "#use the tuple() function to display a readable version of the result:\n",
        "\n",
        "print(tuple(x))"
      ],
      "execution_count": null,
      "outputs": [
        {
          "output_type": "stream",
          "text": [
            "(('John', 'Jenny'), ('Charles', 'Christy'), ('Mike', 'Monica'))\n"
          ],
          "name": "stdout"
        }
      ]
    },
    {
      "cell_type": "code",
      "metadata": {
        "id": "6QbDX47UKbzr",
        "colab": {
          "base_uri": "https://localhost:8080/",
          "height": 104
        },
        "outputId": "d9d8dd8d-9d19-467a-8e22-ccfacd1df705"
      },
      "source": [
        "players = [ \"Sachin\", \"Sehwag\", \"Gambhir\", \"Dravid\", \"Raina\" ] \n",
        "  \n",
        "# initializing their scores \n",
        "scores = [100, 15, 17, 28, 43 ] \n",
        "  \n",
        "# printing players and scores. \n",
        "for pl, sc in zip(players, scores): \n",
        "    print (\"Player :  %s     Score : %d\" %(pl, sc)) "
      ],
      "execution_count": null,
      "outputs": [
        {
          "output_type": "stream",
          "text": [
            "Player :  Sachin     Score : 100\n",
            "Player :  Sehwag     Score : 15\n",
            "Player :  Gambhir     Score : 17\n",
            "Player :  Dravid     Score : 28\n",
            "Player :  Raina     Score : 43\n"
          ],
          "name": "stdout"
        }
      ]
    }
  ]
}